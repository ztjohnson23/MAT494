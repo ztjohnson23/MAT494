{
 "cells": [
  {
   "cell_type": "markdown",
   "metadata": {},
   "source": [
    "HW 1.2"
   ]
  },
  {
   "cell_type": "markdown",
   "metadata": {},
   "source": [
    "1.2.4  Eigenvalues and Eigenvectors"
   ]
  },
  {
   "cell_type": "code",
   "execution_count": 47,
   "metadata": {},
   "outputs": [
    {
     "name": "stdout",
     "output_type": "stream",
     "text": [
      "Eigenvalue 1 = 3.753596191098105 with eigenvector [-0.32227737  0.69883303  0.54221232]\n",
      "Eigenvalue 2 = 0.7585437555790957 with eigenvector [0.64827416 0.57385345 0.7659311 ]\n",
      "Eigenvalue 3 = -3.512139946677203 with eigenvector [-0.68983905 -0.42699486  0.34547845]\n"
     ]
    }
   ],
   "source": [
    "import numpy as np\n",
    "np.random.seed(12)\n",
    "\n",
    "# Create square matrix A\n",
    "A = np.random.randint(-4,5,(3,3))\n",
    "\n",
    "# Find eigenvalues of A\n",
    "eval,evec = np.linalg.eig(A)\n",
    "for i in range(len(eval)):\n",
    "    print(f\"Eigenvalue {i+1} = {eval[i]} with eigenvector {evec[i]}\")\n"
   ]
  },
  {
   "cell_type": "markdown",
   "metadata": {},
   "source": [
    "The eig() function finds the potential eigenvalues and vectors for a matrix A. As seen in the results, there are at most 3 eigenvalues for our square matrix with dimension 3. "
   ]
  },
  {
   "cell_type": "code",
   "execution_count": 56,
   "metadata": {},
   "outputs": [
    {
     "name": "stdout",
     "output_type": "stream",
     "text": [
      "[[ 2 -3 -2]\n",
      " [-1 -1 -4]\n",
      " [ 2 -3  0]]\n",
      "\n",
      " [[ 2.00000000e+00 -3.00000000e+00 -2.00000000e+00]\n",
      " [-1.00000000e+00 -1.00000000e+00 -4.00000000e+00]\n",
      " [ 2.00000000e+00 -3.00000000e+00 -1.31309464e-15]]\n",
      "\n",
      " [[-0.27224191 -1.93860174 -0.04975376]\n",
      " [-1.93860174 -0.23312008 -2.79385097]\n",
      " [-0.04975376 -2.79385097  1.50536199]]\n"
     ]
    }
   ],
   "source": [
    "# Diagonalization of A\n",
    "D = np.diag(eval)\n",
    "P = np.array(evec)\n",
    "\n",
    "A_diag = P@D@np.linalg.inv(P)\n",
    "print(A)\n",
    "print('\\n',A_diag)\n",
    "\n",
    "A_diag_orthogonal = P@D@np.matrix.transpose(P)\n",
    "\n",
    "print('\\n',A_diag_orthogonal)"
   ]
  },
  {
   "cell_type": "markdown",
   "metadata": {},
   "source": [
    "As shown by the results, A is diagonalizable, as A approximately equals the diagonal form of A = PDP^-1. However, we can see that A is not orthogonally diagonalizable, as A is not equal to PDP^T."
   ]
  },
  {
   "cell_type": "code",
   "execution_count": 64,
   "metadata": {},
   "outputs": [
    {
     "name": "stdout",
     "output_type": "stream",
     "text": [
      "[[ 4 -1  4]\n",
      " [-1  3 -5]\n",
      " [ 4 -5  0]] \n",
      "\n",
      " [[ 4.0000000e+00 -1.0000000e+00  4.0000000e+00]\n",
      " [-1.0000000e+00  3.0000000e+00 -5.0000000e+00]\n",
      " [ 4.0000000e+00 -5.0000000e+00  4.2737951e-16]] \n",
      "\n",
      " [[ 4.00000000e+00 -1.00000000e+00  4.00000000e+00]\n",
      " [-1.00000000e+00  3.00000000e+00 -5.00000000e+00]\n",
      " [ 4.00000000e+00 -5.00000000e+00 -4.63755039e-17]]\n"
     ]
    }
   ],
   "source": [
    "# Create symmetric matrix B\n",
    "B = np.array([[4,-1,4],[-1,3,-5],[4,-5,0]])  \n",
    "\n",
    "# Find eigenvalues/vectors and diagonalization of B\n",
    "evalB,evecB = np.linalg.eig(B)\n",
    "D = np.diag(evalB)\n",
    "P = np.array(evecB)\n",
    "\n",
    "# Calculate B using Diagonalization\n",
    "B_diag = P@D@np.linalg.inv(P)\n",
    "B_diag_ortho = P@D@np.matrix.transpose(P)\n",
    "\n",
    "print(B,'\\n\\n',B_diag,'\\n\\n',B_diag_ortho)"
   ]
  },
  {
   "cell_type": "markdown",
   "metadata": {},
   "source": [
    "Now we can see that both methods equaled the matrix B. Thus, B = PDP^-1 = PDP^T, so our matrix B is orthogonally diagonalizable."
   ]
  },
  {
   "cell_type": "code",
   "execution_count": 63,
   "metadata": {},
   "outputs": [
    {
     "name": "stdout",
     "output_type": "stream",
     "text": [
      "[[ 4.00000000e+00 -1.00000000e+00  4.00000000e+00]\n",
      " [-1.00000000e+00  3.00000000e+00 -5.00000000e+00]\n",
      " [ 4.00000000e+00 -5.00000000e+00 -4.63755039e-17]]\n"
     ]
    }
   ],
   "source": [
    "# Test symmetry of B\n",
    "B_trans = np.matrix.transpose(B_diag_ortho)\n",
    "print(B_trans)"
   ]
  },
  {
   "cell_type": "markdown",
   "metadata": {},
   "source": [
    "Now we can confirm that our matrix is symmetric, using the theorem that if B is orthogonally diagonalizable, B = B^T."
   ]
  }
 ],
 "metadata": {
  "language_info": {
   "name": "python"
  },
  "orig_nbformat": 4
 },
 "nbformat": 4,
 "nbformat_minor": 2
}
