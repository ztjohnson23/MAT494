{
  "nbformat": 4,
  "nbformat_minor": 0,
  "metadata": {
    "colab": {
      "provenance": [],
      "collapsed_sections": [],
      "authorship_tag": "ABX9TyPgISas8HrFUDxKRsZG/zQe",
      "include_colab_link": true
    },
    "kernelspec": {
      "name": "python3",
      "display_name": "Python 3"
    },
    "language_info": {
      "name": "python"
    }
  },
  "cells": [
    {
      "cell_type": "markdown",
      "metadata": {
        "id": "view-in-github",
        "colab_type": "text"
      },
      "source": [
        "<a href=\"https://colab.research.google.com/github/ztjohnson23/MAT494/blob/main/hw_1-4.ipynb\" target=\"_parent\"><img src=\"https://colab.research.google.com/assets/colab-badge.svg\" alt=\"Open In Colab\"/></a>"
      ]
    },
    {
      "cell_type": "code",
      "source": [
        "import numpy as np\n",
        "import matplotlib.pyplot as plt\n",
        "import scipy.stats as st"
      ],
      "metadata": {
        "id": "ElmqW4MNLWtp"
      },
      "execution_count": 2,
      "outputs": []
    },
    {
      "cell_type": "markdown",
      "source": [
        "1.4.1 Singular Value Decomposition"
      ],
      "metadata": {
        "id": "0pOJVpsSl3ba"
      }
    },
    {
      "cell_type": "code",
      "source": [
        "# Create matrix A\n",
        "# np.random.seed(25)\n",
        "A = np.random.randint(-10,11,[3,3])\n",
        "print(A)\n",
        "\n",
        "# Find singular values of A\n",
        "_,V = np.linalg.eig(np.matrix.transpose(A)@A)\n",
        "\n",
        "lam = []\n",
        "for i in range(len(V)):\n",
        "  lam_i = np.matrix.transpose(A@V[i])@A@V[i]\n",
        "  lam.append(lam_i)\n",
        "\n",
        "lam.sort(reverse=True)\n",
        "print(f'\\nLambda values:  {lam}')\n",
        "\n",
        "sig = np.sqrt(lam)\n",
        "print(f'Sigma values:  {sig}')\n",
        "\n",
        "sig2 = []\n",
        "for i in range(len(V)):\n",
        "  sig_i = np.linalg.norm(A@V[i])\n",
        "  sig2.append(sig_i)\n",
        "print(f'Norm of Av:  {sig2}')"
      ],
      "metadata": {
        "id": "iGW-5H79l3Eo",
        "colab": {
          "base_uri": "https://localhost:8080/"
        },
        "outputId": "bd36a87c-b77b-493b-b031-a2faa70c61fd"
      },
      "execution_count": 40,
      "outputs": [
        {
          "output_type": "stream",
          "name": "stdout",
          "text": [
            "[[ 0  8  9]\n",
            " [ 4 -3  5]\n",
            " [ 4  2 -3]]\n",
            "\n",
            "Lambda values:  [123.6820251314997, 63.287028346911214, 37.03094652158908]\n",
            "Sigma values:  [11.12124207  7.95531447  6.08530579]\n",
            "Norm of Av:  [6.085305787024107, 11.121242067840251, 7.955314471905634]\n"
          ]
        }
      ]
    },
    {
      "cell_type": "markdown",
      "source": [
        "We have calculated the singular values of A (Sigma), and can see that our values of sigma are equal to the norms, or the magnitudes of the vectors   Av(i), where v(i) is an eigenvector of ATA."
      ],
      "metadata": {
        "id": "O7aAm6OLlDOC"
      }
    },
    {
      "cell_type": "markdown",
      "source": [
        "1.4.3 Principal Component Analysis"
      ],
      "metadata": {
        "id": "QcRobXDwKe36"
      }
    },
    {
      "cell_type": "code",
      "execution_count": 15,
      "metadata": {
        "colab": {
          "base_uri": "https://localhost:8080/",
          "height": 265
        },
        "id": "yYjM33QxKbUY",
        "outputId": "d07844e6-caf2-4197-968e-f9aafdfff25d"
      },
      "outputs": [
        {
          "output_type": "display_data",
          "data": {
            "text/plain": [
              "<Figure size 432x288 with 1 Axes>"
            ],
            "image/png": "[encoded data removed]"
          },
          "metadata": {
            "needs_background": "light"
          }
        }
      ],
      "source": [
        "# Create data\n",
        "np.random.seed(13)\n",
        "study_hours = st.poisson.rvs(mu=8,size=100) + np.random.rand(100)\n",
        "test_scores = 3*np.multiply(study_hours,np.random.rand(100))+np.random.randint(5,70,100)\n",
        "plt.scatter(study_hours,test_scores)\n",
        "plt.show()"
      ]
    },
    {
      "cell_type": "code",
      "source": [
        "# Create matrix of observation\n",
        "matrix_obs = np.matrix.transpose(np.array([study_hours,test_scores]))\n",
        "\n",
        "# Calculate sample mean\n",
        "N = len(study_hours)\n",
        "M = 1/N * sum(matrix_obs)\n",
        "print(M)\n",
        "\n",
        "# Mean-deviation form\n",
        "B = np.zeros([100,2])\n",
        "for i in range(len(matrix_obs)):\n",
        "  B[i,:] = matrix_obs[i,:]-M\n",
        "  \n",
        "plt.scatter(B[:,0],B[:,1])\n",
        "plt.axhline(color='black')\n",
        "plt.axvline(color='black')\n",
        "plt.show()"
      ],
      "metadata": {
        "colab": {
          "base_uri": "https://localhost:8080/",
          "height": 283
        },
        "id": "6Tw0x5W-ZLMv",
        "outputId": "1fa90917-465b-49c9-ebd6-93bd2d62d154"
      },
      "execution_count": 16,
      "outputs": [
        {
          "output_type": "stream",
          "name": "stdout",
          "text": [
            "[ 8.02567405 51.12841103]\n"
          ]
        },
        {
          "output_type": "display_data",
          "data": {
            "text/plain": [
              "<Figure size 432x288 with 1 Axes>"
            ],
            "image/png": "[encoded data removed]"
          },
          "metadata": {
            "needs_background": "light"
          }
        }
      ]
    },
    {
      "cell_type": "markdown",
      "source": [
        "Now we have our data in mean-deviation form, so it is ready for principal component analysis."
      ],
      "metadata": {
        "id": "4F0YpAK0h02N"
      }
    },
    {
      "cell_type": "code",
      "source": [
        "# Covariance matrix\n",
        "S = 1/(N-1) * B@np.matrix.transpose(B)\n",
        "\n",
        "# Variance\n",
        "v = []\n",
        "for i in range(len(S)):\n",
        "  v.append(S[i,i])\n",
        "\n",
        "# Total variance\n",
        "V = S.trace()\n",
        "print(V)\n",
        "V = sum(v)\n",
        "print(V)"
      ],
      "metadata": {
        "colab": {
          "base_uri": "https://localhost:8080/"
        },
        "id": "kRMz29i2eaMI",
        "outputId": "0703f56c-f731-48d5-b359-a8c5f5395725"
      },
      "execution_count": 17,
      "outputs": [
        {
          "output_type": "stream",
          "name": "stdout",
          "text": [
            "438.22482704009633\n",
            "438.22482704009644\n"
          ]
        }
      ]
    },
    {
      "cell_type": "markdown",
      "source": [
        "We have a list (v) of the variances of our data, and the total variance (V), which is equal to the sum of individual variances, or the trace of the covariance matrix S."
      ],
      "metadata": {
        "id": "sfV2CMnJj3VE"
      }
    }
  ]
}