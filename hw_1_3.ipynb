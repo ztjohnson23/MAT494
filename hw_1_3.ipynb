{
  "nbformat": 4,
  "nbformat_minor": 0,
  "metadata": {
    "colab": {
      "provenance": [],
      "collapsed_sections": [],
      "authorship_tag": "ABX9TyNmwAM+oyIgpj7N4hd/9nvX",
      "include_colab_link": true
    },
    "kernelspec": {
      "name": "python3",
      "display_name": "Python 3"
    },
    "language_info": {
      "name": "python"
    }
  },
  "cells": [
    {
      "cell_type": "markdown",
      "metadata": {
        "id": "view-in-github",
        "colab_type": "text"
      },
      "source": [
        "<a href=\"https://colab.research.google.com/github/ztjohnson23/MAT494/blob/main/hw_1_3.ipynb\" target=\"_parent\"><img src=\"https://colab.research.google.com/assets/colab-badge.svg\" alt=\"Open In Colab\"/></a>"
      ]
    },
    {
      "cell_type": "code",
      "execution_count": 147,
      "metadata": {
        "id": "nsARuVZ47yBz"
      },
      "outputs": [],
      "source": [
        "from sklearn.metrics import mean_squared_error as mse\n",
        "import numpy as np"
      ]
    },
    {
      "cell_type": "markdown",
      "source": [
        "1.3.2 Least-squares Problems"
      ],
      "metadata": {
        "id": "UdVoO5TNIsyH"
      }
    },
    {
      "cell_type": "code",
      "source": [
        "# Create random matrices A,b\n",
        "\n",
        "np.random.seed(40)\n",
        "m = np.random.randint(2,5)\n",
        "n = np.random.randint(m+1,7)\n",
        "\n",
        "A = np.random.randint(-4,9,[n,m])\n",
        "print('A\\n',A)\n",
        "\n",
        "b = np.random.randint(-2,11,[n,1])\n",
        "print('\\nb\\n',b)"
      ],
      "metadata": {
        "colab": {
          "base_uri": "https://localhost:8080/"
        },
        "id": "tWV4HcMk8eyy",
        "outputId": "a499c521-78ba-464c-b045-1440376eb71b"
      },
      "execution_count": 123,
      "outputs": [
        {
          "output_type": "stream",
          "name": "stdout",
          "text": [
            "A\n",
            " [[ 3  1  4  4]\n",
            " [-2 -3  8  3]\n",
            " [-2 -1  6  3]\n",
            " [-1  7  7  5]\n",
            " [-4 -3  1  5]\n",
            " [ 4  0  8  0]]\n",
            "\n",
            "b\n",
            " [[6]\n",
            " [8]\n",
            " [8]\n",
            " [4]\n",
            " [1]\n",
            " [9]]\n"
          ]
        }
      ]
    },
    {
      "cell_type": "markdown",
      "source": [
        "To demonstrate the least-squares problem, A is an overdetermined matrix so that it is not invertible and the system cannot be solved using the matrix inverse."
      ],
      "metadata": {
        "id": "IxNLHSgM_DE2"
      }
    },
    {
      "cell_type": "code",
      "source": [
        "# Least-squares solution using QR decomposition\n",
        "q,r = np.linalg.qr(A)\n",
        "x = np.linalg.inv(r)@np.matrix.transpose(q)@b\n",
        "\n",
        "# Print results\n",
        "print('Least squares solution x\\n',x)\n",
        "\n",
        "print('\\nLeast squares approximation b\\n',A@x,'\\n\\nActual value b\\n',b)\n",
        "\n",
        "print('\\n Mean squared error between b and bhat\\n',mse(b,A@x))\n",
        "\n",
        "#print('\\nnumpy built-in least squares solution x\\n',np.linalg.lstsq(A,b,rcond=0)[0])"
      ],
      "metadata": {
        "colab": {
          "base_uri": "https://localhost:8080/"
        },
        "id": "rf6zzqJv-vdb",
        "outputId": "a6f9ac2a-6e47-4036-a0e9-15a03269b77e"
      },
      "execution_count": 149,
      "outputs": [
        {
          "output_type": "stream",
          "name": "stdout",
          "text": [
            "Least squares solution x\n",
            " [[ 0.43067719]\n",
            " [-0.43220104]\n",
            " [ 0.96580751]\n",
            " [ 0.21790721]]\n",
            "\n",
            "Least squares approximation b\n",
            " [[5.59468943]\n",
            " [8.81543049]\n",
            " [6.01941338]\n",
            " [4.39410418]\n",
            " [1.62923795]\n",
            " [9.44916886]] \n",
            "\n",
            "Actual value b\n",
            " [[6]\n",
            " [8]\n",
            " [8]\n",
            " [4]\n",
            " [1]\n",
            " [9]]\n",
            "\n",
            " Mean squared error between b and bhat\n",
            " 0.9174896765252766\n"
          ]
        }
      ]
    },
    {
      "cell_type": "markdown",
      "source": [
        "In this case, our least-squares approximation of the solution x is fairly close to the true value of x, as plugging xhat back into our system of equations Ax=b results in a matrix bhat that is close to the expected matrix b with a decent mean squared error."
      ],
      "metadata": {
        "id": "Lm-U2rnqHi_J"
      }
    },
    {
      "cell_type": "code",
      "source": [
        "def run_ls(num_its):\n",
        "  error_list = []\n",
        "  for _ in range(num_its):\n",
        "    m = np.random.randint(2,5)\n",
        "    n = np.random.randint(m+1,7)\n",
        "    A = np.random.randint(-4,9,[n,m])\n",
        "    b = np.random.randint(-2,11,[n,1])\n",
        "\n",
        "    q,r = np.linalg.qr(A)\n",
        "    x = np.linalg.inv(r)@np.matrix.transpose(q)@b\n",
        "\n",
        "    b_hat = A@x\n",
        "    error = mse(b,b_hat)\n",
        "    error_list.append(error)\n",
        "  return[error_list,np.mean(error_list),max(error_list),min(error_list)]"
      ],
      "metadata": {
        "id": "F6bwg_HANf1I"
      },
      "execution_count": 150,
      "outputs": []
    },
    {
      "cell_type": "code",
      "source": [
        "# Analyze error over many iterations\n",
        "errors,mean_err,max_err,min_err = run_ls(500)\n",
        "print(f'Average error is: {round(mean_err,4)}, max error is: {round(max_err,4)}, min error is: {round(min_err,4)}')"
      ],
      "metadata": {
        "colab": {
          "base_uri": "https://localhost:8080/"
        },
        "id": "zvozq8a4HjZE",
        "outputId": "9b3eddf3-cd67-44a6-b20e-0754ece5481a"
      },
      "execution_count": 152,
      "outputs": [
        {
          "output_type": "stream",
          "name": "stdout",
          "text": [
            "Average error is: 9.8561, max error is: 61.8953, min error is: 0.0\n"
          ]
        }
      ]
    },
    {
      "cell_type": "markdown",
      "source": [
        "I tracked the accuracy of least-square approximations over 500 random overdetermined systems Ax=b in order to analyze the general trustworthiness of the least-squares method. As shown by the min error, the least-squares method is capable of providing accurate results, or even the exact solution of x. However, the maximum and average error values suggest that using least-squares may not reliably produce accurate predictions. Obviously, this depends heavily on the characteristics of the matrices A and b in the system, but results suggest that least-squares is not a highly accurate method of approximating systems of linear equations."
      ],
      "metadata": {
        "id": "WScIP9KTQbQR"
      }
    }
  ]
}