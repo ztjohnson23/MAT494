{
  "nbformat": 4,
  "nbformat_minor": 0,
  "metadata": {
    "colab": {
      "provenance": [],
      "collapsed_sections": [],
      "authorship_tag": "ABX9TyNzf0TNlL237XVd90zDCM9X",
      "include_colab_link": true
    },
    "kernelspec": {
      "name": "python3",
      "display_name": "Python 3"
    },
    "language_info": {
      "name": "python"
    }
  },
  "cells": [
    {
      "cell_type": "markdown",
      "metadata": {
        "id": "view-in-github",
        "colab_type": "text"
      },
      "source": [
        "<a href=\"https://colab.research.google.com/github/ztjohnson23/MAT494/blob/main/hw_2_2.ipynb\" target=\"_parent\"><img src=\"https://colab.research.google.com/assets/colab-badge.svg\" alt=\"Open In Colab\"/></a>"
      ]
    },
    {
      "cell_type": "code",
      "execution_count": 2,
      "metadata": {
        "id": "E_ILkUc1ttlM"
      },
      "outputs": [],
      "source": [
        "import numpy as np\n",
        "from numpy import random"
      ]
    },
    {
      "cell_type": "markdown",
      "source": [
        "2.2 Probability Distribution"
      ],
      "metadata": {
        "id": "Kr29kemBtxES"
      }
    },
    {
      "cell_type": "code",
      "source": [
        "# Set up sample space with even probability distribution\n",
        "S = ['red','blue','yellow','green']\n",
        "P = {}\n",
        "for E in S:\n",
        "  P[E] = .25\n",
        "print(P)"
      ],
      "metadata": {
        "colab": {
          "base_uri": "https://localhost:8080/"
        },
        "id": "UZlCA01xt9ve",
        "outputId": "e021991d-a64f-4d1c-c37b-ddfc7e94354b"
      },
      "execution_count": null,
      "outputs": [
        {
          "output_type": "stream",
          "name": "stdout",
          "text": [
            "{'red': 0.25, 'blue': 0.25, 'yellow': 0.25, 'green': 0.25}\n"
          ]
        }
      ]
    },
    {
      "cell_type": "markdown",
      "source": [
        "We have a sample space with 4 outcomes, each with an equal probability. The sum of P(A) in our sample space is 1, so our sample space is complete. We will use this sample space to test some of our axioms of probability."
      ],
      "metadata": {
        "id": "drQCoxElx4BW"
      }
    },
    {
      "cell_type": "code",
      "source": [
        "# P(A1 U A2) = P(A1) + P(A2)\n",
        "n_red = 0; n_yel = 0; n_union = 0\n",
        "for i in range(50000):\n",
        "  outcome = S[random.randint(0,len(S))]\n",
        "  if outcome == 'red' or outcome == 'yellow':\n",
        "    n_union += 1\n",
        "  if outcome == 'red':\n",
        "    n_red += 1\n",
        "  if outcome == 'yellow':\n",
        "    n_yel += 1\n",
        "\n",
        "# P(A) = N(A)/N\n",
        "exp_p = {}\n",
        "exp_p['red'] = n_red/50000\n",
        "exp_p['yellow'] = n_yel/50000\n",
        "exp_p['red or yellow'] = n_union/50000\n",
        "exp_p['P(red) + P(yellow)'] = exp_p['red'] + exp_p['yellow']\n",
        "print(exp_p)"
      ],
      "metadata": {
        "colab": {
          "base_uri": "https://localhost:8080/"
        },
        "id": "qdB7vH-mxxPS",
        "outputId": "36f2d659-623d-4f8e-a88a-e4abb7091c4a"
      },
      "execution_count": null,
      "outputs": [
        {
          "output_type": "stream",
          "name": "stdout",
          "text": [
            "{'red': 0.2499, 'yellow': 0.2535, 'red or yellow': 0.5034, 'P(red) + P(yellow)': 0.5034000000000001}\n"
          ]
        }
      ]
    },
    {
      "cell_type": "code",
      "source": [
        "# P(A) + P(A') = 1\n",
        "n_red = 0; n_not_red = 0\n",
        "for i in range(50000):\n",
        "  outcome = S[random.randint(0,len(S))]\n",
        "  if outcome == 'red':\n",
        "    n_red += 1\n",
        "  else :\n",
        "    n_not_red += 1\n",
        "\n",
        "p_red = n_red/50000; p_not_red = n_not_red/50000\n",
        "print(f'P(red)+P(not red) = {p_red + p_not_red}')"
      ],
      "metadata": {
        "colab": {
          "base_uri": "https://localhost:8080/"
        },
        "id": "mMwznO04EpFU",
        "outputId": "fafad05d-99df-4375-df69-eee4898569dd"
      },
      "execution_count": null,
      "outputs": [
        {
          "output_type": "stream",
          "name": "stdout",
          "text": [
            "P(red)+P(not red) = 1.0\n"
          ]
        }
      ]
    },
    {
      "cell_type": "markdown",
      "source": [
        "Next we will use a non-exclusive sample space to test the axiom P(A U B) = P(A) + P(B) - P(AB). The sample space is an integer x picked at random between 1 and 20. Event A = x<=10, and event B = x in (5, 15)."
      ],
      "metadata": {
        "id": "icTFWuNXxyDE"
      }
    },
    {
      "cell_type": "code",
      "source": [
        "n_A = 0; n_B = 0; n_AorB = 0; n_AB = 0\n",
        "for i in range(50000):\n",
        "  x = random.randint(1,21)\n",
        "  if x <= 10:\n",
        "    n_A += 1\n",
        "    n_AorB += 1\n",
        "    if x > 5:\n",
        "      n_AB += 1\n",
        "      n_B += 1\n",
        "  elif x < 15:\n",
        "    n_B += 1\n",
        "    n_AorB += 1\n",
        "\n",
        "p_A = n_A/50000; p_B = n_B/50000; p_AorB = n_AorB/50000; p_AB = n_AB/50000\n",
        "\n",
        "print(f'P(A U B) = {p_AorB}')\n",
        "print(f'P(A) + P(B) - P(AB) = {p_A + p_B - p_AB}')\n"
      ],
      "metadata": {
        "id": "oWW6lRVkxxo6",
        "colab": {
          "base_uri": "https://localhost:8080/"
        },
        "outputId": "b163502e-a7bc-495b-a7a5-f7dbb2b7b3cc"
      },
      "execution_count": null,
      "outputs": [
        {
          "output_type": "stream",
          "name": "stdout",
          "text": [
            "P(A U B) = 0.70124\n",
            "P(A) + P(B) - P(AB) = 0.70124\n"
          ]
        }
      ]
    },
    {
      "cell_type": "markdown",
      "source": [
        "2.2.2 Conditional Probability"
      ],
      "metadata": {
        "id": "k9-wJqs9_v9_"
      }
    },
    {
      "cell_type": "markdown",
      "source": [
        "We will use the same experiment to test some axioms of conditional probability. Event A is x<=10, and event B is x in (5, 15)."
      ],
      "metadata": {
        "id": "Pd5HT32Q_2wZ"
      }
    },
    {
      "cell_type": "code",
      "source": [
        "# P(A|B) = P(AB)/P(B)\n",
        "n_B = 0; n_AB = 0\n",
        "for i in range(50000):\n",
        "  x = random.randint(1,21)\n",
        "  if x <= 10:\n",
        "    if x > 5:\n",
        "      n_AB += 1\n",
        "      n_B += 1\n",
        "  elif x < 15:\n",
        "    n_B += 1\n",
        "\n",
        "p_B = n_B/50000; p_AB = n_AB/50000\n",
        "print(f'P(AB)/P(B) = {round(p_AB/p_B,3)}')\n",
        "\n",
        "n_AifB = 0\n",
        "for i in range(50000):\n",
        "  x=random.randint(6,15)\n",
        "  if x <=10:\n",
        "    n_AifB += 1\n",
        "p_AifB = n_AifB/50000\n",
        "print(f'P(A|B) = {round(p_AifB,3)}')"
      ],
      "metadata": {
        "colab": {
          "base_uri": "https://localhost:8080/"
        },
        "id": "r77btpLU_ykh",
        "outputId": "9fe31a9a-76eb-4b90-bc12-f88a041b81f0"
      },
      "execution_count": 15,
      "outputs": [
        {
          "output_type": "stream",
          "name": "stdout",
          "text": [
            "P(AB)/P(B) = 0.557\n",
            "P(A|B) = 0.555\n"
          ]
        }
      ]
    },
    {
      "cell_type": "code",
      "source": [
        "# P(AB) = P(A|B) * P(B)\n",
        "n_AB = 0\n",
        "for i in range(50000):\n",
        "  x = random.randint(1,21)\n",
        "  if x <= 10:\n",
        "    if x > 5:\n",
        "      n_AB += 1\n",
        "p_AB = n_AB/50000\n",
        "print(f'P(AB)= {round(p_AB,3)}')\n",
        "\n",
        "n_AifB = 0\n",
        "for i in range(50000):\n",
        "  x=random.randint(6,15)\n",
        "  if x <=10:\n",
        "    n_AifB += 1\n",
        "p_AifB = n_AifB/50000\n",
        "\n",
        "n_B = 0\n",
        "for i in range(50000):\n",
        "  x=random.randint(1,21)\n",
        "  if x>5 and x<15 :\n",
        "    n_B += 1\n",
        "p_B = n_B/50000\n",
        "\n",
        "print(f'P(A|B) * P(B) = {round(p_AifB*p_B,3)}')"
      ],
      "metadata": {
        "colab": {
          "base_uri": "https://localhost:8080/"
        },
        "id": "jbFcMU2rCC8F",
        "outputId": "8b8f75bd-c168-46dc-a922-5d85377ff315"
      },
      "execution_count": 16,
      "outputs": [
        {
          "output_type": "stream",
          "name": "stdout",
          "text": [
            "P(AB)= 0.251\n",
            "P(A|B) * P(B) = 0.25\n"
          ]
        }
      ]
    }
  ]
}
