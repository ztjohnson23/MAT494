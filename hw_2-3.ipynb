{
  "nbformat": 4,
  "nbformat_minor": 0,
  "metadata": {
    "colab": {
      "provenance": [],
      "authorship_tag": "ABX9TyPkRHjd0bGUEG+VOkDOJVSX",
      "include_colab_link": true
    },
    "kernelspec": {
      "name": "python3",
      "display_name": "Python 3"
    },
    "language_info": {
      "name": "python"
    }
  },
  "cells": [
    {
      "cell_type": "markdown",
      "metadata": {
        "id": "view-in-github",
        "colab_type": "text"
      },
      "source": [
        "<a href=\"https://colab.research.google.com/github/ztjohnson23/MAT494/blob/main/hw_2-3.ipynb\" target=\"_parent\"><img src=\"https://colab.research.google.com/assets/colab-badge.svg\" alt=\"Open In Colab\"/></a>"
      ]
    },
    {
      "cell_type": "code",
      "execution_count": 1,
      "metadata": {
        "id": "J00LpLTOh5l4"
      },
      "outputs": [],
      "source": [
        "import numpy as np\n",
        "import numpy.random as rand\n",
        "import matplotlib.pyplot as plt"
      ]
    },
    {
      "cell_type": "markdown",
      "source": [
        "2.3 Independent Variables and Random Samples"
      ],
      "metadata": {
        "id": "MXPVB0wCiGzF"
      }
    },
    {
      "cell_type": "markdown",
      "source": [
        "2.3.3.2 Central Limit Theorem"
      ],
      "metadata": {
        "id": "iHvzkYV8idzQ"
      }
    },
    {
      "cell_type": "code",
      "source": [
        "# Establish population distribution\n",
        "X = rand.randint(40,60,2500)+rand.randint(-20,21,2500)*rand.rand(2500)\n",
        "\n",
        "plt.hist(X)\n",
        "plt.show()\n",
        "\n",
        "M = np.mean(X)\n",
        "V = np.var(X)\n",
        "print(f'Mean: {M},  Variance: {V}')"
      ],
      "metadata": {
        "colab": {
          "base_uri": "https://localhost:8080/",
          "height": 282
        },
        "id": "rS2t4YUCiHLS",
        "outputId": "8cb10f0d-8dee-4c3b-80b5-d748602eca24"
      },
      "execution_count": 47,
      "outputs": [
        {
          "output_type": "display_data",
          "data": {
            "text/plain": [
              "<Figure size 432x288 with 1 Axes>"
            ],
            "image/png": "[encoded data removed]"
          },
          "metadata": {
            "needs_background": "light"
          }
        },
        {
          "output_type": "stream",
          "name": "stdout",
          "text": [
            "Mean: 49.489143088666125,  Variance: 77.92136910263096\n"
          ]
        }
      ]
    },
    {
      "cell_type": "code",
      "source": [
        "#Distribution of sample means\n",
        "x_bars = []\n",
        "T = []\n",
        "n = 100\n",
        "for _ in range(750):\n",
        "  sample = X[rand.randint(0,2500,n)]\n",
        "  x_bars.append(np.mean(sample))\n",
        "  T.append(sum(sample))\n",
        "\n",
        "plt.hist(x_bars)\n",
        "plt.show()\n",
        "\n",
        "# Mean and Variation\n",
        "M_xbar = M\n",
        "V_xbar = V/n\n",
        "\n",
        "M_xbar_actual = np.mean(x_bars)\n",
        "V_xbar_actual = np.var(x_bars)\n",
        "\n",
        "print(f'Mean should be {M_xbar} but is {M_xbar_actual}')\n",
        "print(f'Variance should be {V_xbar} but is {V_xbar_actual}')"
      ],
      "metadata": {
        "colab": {
          "base_uri": "https://localhost:8080/",
          "height": 300
        },
        "id": "_iiTTtb9An8w",
        "outputId": "ae3158a8-9b6f-47f7-e9df-57a096a4576e"
      },
      "execution_count": 48,
      "outputs": [
        {
          "output_type": "display_data",
          "data": {
            "text/plain": [
              "<Figure size 432x288 with 1 Axes>"
            ],
            "image/png": "[encoded data removed]"
          },
          "metadata": {
            "needs_background": "light"
          }
        },
        {
          "output_type": "stream",
          "name": "stdout",
          "text": [
            "Mean should be 49.489143088666125 but is 49.43442136294641\n",
            "Variance should be 0.7792136910263097 but is 0.7049020678458879\n"
          ]
        }
      ]
    },
    {
      "cell_type": "markdown",
      "source": [
        "After taking 750 samples of size 100, we can see that $\\bar{x}$ has an approximately normal distribution. The predicted values of the mean and variance of $\\bar{x}$ are extremely close to the experimental values, supporting the central limit theorem."
      ],
      "metadata": {
        "id": "yyIAQtZgCAQ3"
      }
    },
    {
      "cell_type": "code",
      "source": [
        "# Distribution of sample total\n",
        "plt.hist(T)\n",
        "plt.show()\n",
        "\n",
        "M_T = n*M\n",
        "M_T_actual = np.mean(T)\n",
        "\n",
        "V_T = n*V\n",
        "V_T_actual = np.var(T)\n",
        "\n",
        "print(f'Mean should be {M_T} but is {M_T_actual}')\n",
        "print(f'Variance should be {V_T} but is {V_T_actual}')"
      ],
      "metadata": {
        "colab": {
          "base_uri": "https://localhost:8080/",
          "height": 300
        },
        "id": "Ssxw1CXBEFcZ",
        "outputId": "d9730c7b-b426-45b6-da48-41fab2c2ae6d"
      },
      "execution_count": 49,
      "outputs": [
        {
          "output_type": "display_data",
          "data": {
            "text/plain": [
              "<Figure size 432x288 with 1 Axes>"
            ],
            "image/png": "[encoded data removed]"
          },
          "metadata": {
            "needs_background": "light"
          }
        },
        {
          "output_type": "stream",
          "name": "stdout",
          "text": [
            "Mean should be 4948.914308866612 but is 4943.442136294642\n",
            "Variance should be 7792.136910263096 but is 7049.020678458872\n"
          ]
        }
      ]
    },
    {
      "cell_type": "markdown",
      "source": [
        "We can see that $T_0$ also follows an approximately normal distribution, and its mean and variance can be accurately predicted by the central limit theorem as well. Next we will test how changing n affects the accuracy of the approximation."
      ],
      "metadata": {
        "id": "icc7H2BOG5hs"
      }
    },
    {
      "cell_type": "code",
      "source": [
        "n_list = [30, 100, 500, 1000]\n",
        "\n",
        "\n",
        "for n in n_list:\n",
        "  x_bars = []\n",
        "  for _ in range(750):\n",
        "    sample = X[rand.randint(0,2500,n)]\n",
        "    x_bars.append(np.mean(sample))\n",
        "\n",
        "  M_xbar = M\n",
        "  V_xbar = V/n\n",
        "  M_xbar_actual = np.mean(x_bars)\n",
        "  V_xbar_actual = np.var(x_bars)\n",
        "\n",
        "  print(f'For n={n}, difference between estimated and actual mean is {abs(M_xbar_actual-M_xbar)}.')\n",
        "  print(f'Difference between estimated and actual variance is {abs(V_xbar_actual-V_xbar)}.\\n')"
      ],
      "metadata": {
        "colab": {
          "base_uri": "https://localhost:8080/"
        },
        "id": "p7Pkk2MQHcLN",
        "outputId": "66fac392-5bff-4d6c-c6ec-4af3dc2883bb"
      },
      "execution_count": 55,
      "outputs": [
        {
          "output_type": "stream",
          "name": "stdout",
          "text": [
            "For n=30, difference between estimated and actual mean is 0.0760345526839501.\n",
            "Difference between estimated and actual variance is 0.07517337052909046.\n",
            "\n",
            "For n=100, difference between estimated and actual mean is 0.055781766972764046.\n",
            "Difference between estimated and actual variance is 0.04687008064017606.\n",
            "\n",
            "For n=500, difference between estimated and actual mean is 0.0032676733048262463.\n",
            "Difference between estimated and actual variance is 0.0035817205062675384.\n",
            "\n",
            "For n=1000, difference between estimated and actual mean is 0.004192640691726979.\n",
            "Difference between estimated and actual variance is 0.004213164594057406.\n",
            "\n"
          ]
        }
      ]
    },
    {
      "cell_type": "markdown",
      "source": [
        "As predicted by the central limit theorem, accuracy of predictions for the average sample mean increased from n=30 to n=500, but interestingly increasing n from 500 to 1000 made the predictions less accurate. "
      ],
      "metadata": {
        "id": "wqtaFfN-Ol4I"
      }
    }
  ]
}