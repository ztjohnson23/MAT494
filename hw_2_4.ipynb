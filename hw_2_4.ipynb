{
  "nbformat": 4,
  "nbformat_minor": 0,
  "metadata": {
    "colab": {
      "provenance": [],
      "authorship_tag": "ABX9TyPV+DcyYVf9DJMMIG2vF2pk",
      "include_colab_link": true
    },
    "kernelspec": {
      "name": "python3",
      "display_name": "Python 3"
    },
    "language_info": {
      "name": "python"
    }
  },
  "cells": [
    {
      "cell_type": "markdown",
      "metadata": {
        "id": "view-in-github",
        "colab_type": "text"
      },
      "source": [
        "<a href=\"https://colab.research.google.com/github/ztjohnson23/MAT494/blob/main/hw_2_4.ipynb\" target=\"_parent\"><img src=\"https://colab.research.google.com/assets/colab-badge.svg\" alt=\"Open In Colab\"/></a>"
      ]
    },
    {
      "cell_type": "code",
      "execution_count": null,
      "metadata": {
        "id": "x44Gj_tktyBJ"
      },
      "outputs": [],
      "source": [
        "import numpy as np\n",
        "import sympy as sym\n",
        "import matplotlib.pyplot as plt"
      ]
    },
    {
      "cell_type": "markdown",
      "source": [
        "2.4.1 MLE for Random Samples"
      ],
      "metadata": {
        "id": "sqLEUuwv11L7"
      }
    },
    {
      "cell_type": "code",
      "source": [
        "# Poisson distribution with unknown lambda\n",
        "lam = np.random.randint(-10,21)\n",
        "x = np.random.poisson(lam,1000)"
      ],
      "metadata": {
        "id": "-a7hk32luYtr"
      },
      "execution_count": null,
      "outputs": []
    },
    {
      "cell_type": "markdown",
      "source": [
        "$$f(x;λ)=\\frac{λ^xe^{-\\lambda}}{x!}$$\n",
        "$$\\ln(f(x_1,...,x_n;\\lambda))=-\\lambda n-\\sum_{i=1}^n \\ln(x_i!)+\\ln(\\lambda)\\sum_{i=1}^n x_i$$\n",
        "$$\\frac{\\delta}{\\delta \\lambda}=-n-0+\\frac{1}{λ}\\sum_{i=1}^n x_i=0 $$\n",
        "$$\\hat{\\lambda}=\\frac{1}{n}\\sum_{i=1}^n x_i=\\bar{x}$$\n"
      ],
      "metadata": {
        "id": "h7A5sCFd19kO"
      }
    },
    {
      "cell_type": "code",
      "source": [
        "# Calculate MLE\n",
        "lhat = sum(x)/len(x)\n",
        "print(f'Lambda is {lam}.\\nMLE of lambda is {lhat}.')"
      ],
      "metadata": {
        "colab": {
          "base_uri": "https://localhost:8080/"
        },
        "id": "iWL7Df3pBIYI",
        "outputId": "86c3c936-cc0c-4f03-c8a2-bba54b0fa2ea"
      },
      "execution_count": null,
      "outputs": [
        {
          "output_type": "stream",
          "name": "stdout",
          "text": [
            "Lambda is 11.\n",
            "MLE of lambda is 10.999.\n"
          ]
        }
      ]
    },
    {
      "cell_type": "markdown",
      "source": [
        "We can see that the MLE of the parameter lambda is an accurate estimatation. Without knowing lambda, we were able to predict it within 0.001 using MLE."
      ],
      "metadata": {
        "id": "EyawTHzEDGEs"
      }
    },
    {
      "cell_type": "markdown",
      "source": [
        "2.4.2 Linear Regression"
      ],
      "metadata": {
        "id": "5O4nsxC8D-mq"
      }
    },
    {
      "cell_type": "code",
      "source": [
        "x = [13, 11, 10, 8, 9, 6, 3, 0, 0]\n",
        "y = [10, 16, 18, 24, 23, 23, 25, 26, 28]\n",
        "\n",
        "# Calculate B's by MLE\n",
        "xi, yi, B0, B1 = sym.symbols('xi yi B0 B1')\n",
        "f = (yi-B0-B1*xi)**2\n",
        "\n",
        "# Partial derivatives with respect to unknowns\n",
        "db0 = sym.diff(f,B0)\n",
        "print(f'0 = sum({db0})')\n",
        "db1 = sym.diff(f,B1)\n",
        "print(f'0 = sum({db1})')"
      ],
      "metadata": {
        "id": "I_m1Dj6TEDZN",
        "colab": {
          "base_uri": "https://localhost:8080/"
        },
        "outputId": "aa70a8ad-202b-45b4-b0ed-ade42bbf37b8"
      },
      "execution_count": null,
      "outputs": [
        {
          "output_type": "stream",
          "name": "stdout",
          "text": [
            "0 = sum(2*B0 + 2*B1*xi - 2*yi)\n",
            "0 = sum(-2*xi*(-B0 - B1*xi + yi))\n"
          ]
        }
      ]
    },
    {
      "cell_type": "markdown",
      "source": [
        "$$\\delta\\beta_0=\\sum_{i=1}^n{2\\beta_0-2\\beta_1x_i-2y_i}=0$$\n",
        "$$\\delta\\beta_1=\\sum_{i=1}^n{2\\beta_0x_i+2\\beta_1x_i^2-2x_iy_i}=0$$"
      ],
      "metadata": {
        "id": "yXCok0w4QQDJ"
      }
    },
    {
      "cell_type": "code",
      "source": [
        "# Set up and solve system of equations\n",
        "db0_new = 2*B0*len(y)+2*B1*sum(x)-2*sum(y)\n",
        "print(f'0 = {db0_new}')\n",
        "\n",
        "x2 = [xi*xi for xi in x]\n",
        "xy = []\n",
        "for i in range(len(x)):\n",
        "  xy.append(x[i]*y[i])\n",
        "\n",
        "db1_new = 2*B0*sum(x) + 2*B1*sum(x2) - 2*sum(xy)\n",
        "print(f'0 = {db1_new}')\n",
        "\n",
        "solution = sym.solve([db0_new,db1_new],(B0,B1))\n",
        "print('\\n',solution)"
      ],
      "metadata": {
        "colab": {
          "base_uri": "https://localhost:8080/"
        },
        "id": "TRoalJsmc3AN",
        "outputId": "d0a68a6a-19a6-40b0-f108-e6c3a9aefade"
      },
      "execution_count": 39,
      "outputs": [
        {
          "output_type": "stream",
          "name": "stdout",
          "text": [
            "0 = 18*B0 + 120*B1 - 386\n",
            "0 = 120*B0 + 1160*B1 - 2196\n",
            "\n",
            " {B0: 2303/81, B1: -283/270}\n"
          ]
        }
      ]
    },
    {
      "cell_type": "code",
      "source": [
        "# Plot regression\n",
        "plt.scatter(x,y)\n",
        "yhat = [solution[B0] + solution[B1]*xi for xi in x]\n",
        "plt.plot(x,yhat,color='red')"
      ],
      "metadata": {
        "colab": {
          "base_uri": "https://localhost:8080/",
          "height": 282
        },
        "id": "E0M_Y7P8Kl3G",
        "outputId": "c4cc008e-878e-4c47-e0b7-f175b4fb0c8b"
      },
      "execution_count": 43,
      "outputs": [
        {
          "output_type": "execute_result",
          "data": {
            "text/plain": [
              "[<matplotlib.lines.Line2D at 0x7f86c491a4d0>]"
            ]
          },
          "metadata": {},
          "execution_count": 43
        },
        {
          "output_type": "display_data",
          "data": {
            "text/plain": [
              "<Figure size 432x288 with 1 Axes>"
            ],
            "image/png": "[encoded data removed]"
          },
          "metadata": {
            "needs_background": "light"
          }
        }
      ]
    },
    {
      "cell_type": "code",
      "source": [
        "# Check using least-squares\n",
        "A = np.ones([9,2])\n",
        "A[:,1] = x\n",
        "\n",
        "B = np.zeros([9,1])\n",
        "B[:,0] = y\n",
        "\n",
        "solution = np.linalg.lstsq(A,B,rcond=0)[0]"
      ],
      "metadata": {
        "colab": {
          "base_uri": "https://localhost:8080/"
        },
        "id": "h-TsFrAtHoBq",
        "outputId": "3b929400-d0e4-4659-e73a-4e4a30d702af"
      },
      "execution_count": 26,
      "outputs": [
        {
          "output_type": "stream",
          "name": "stdout",
          "text": [
            "[[28.43209877]\n",
            " [-1.04814815]]\n"
          ]
        }
      ]
    },
    {
      "cell_type": "markdown",
      "source": [
        "By using MLE to calculate the parameters that minimize $\\sum_{i=1}^n{(y_i-\\hat{y}_i)^2}$, we can find a linear regression fit for our data. The solution is the same as the least-squares problem. \n",
        "\n"
      ],
      "metadata": {
        "id": "usfIzU1XR5vK"
      }
    }
  ]
}