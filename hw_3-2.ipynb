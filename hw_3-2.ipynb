{
  "nbformat": 4,
  "nbformat_minor": 0,
  "metadata": {
    "colab": {
      "provenance": [],
      "collapsed_sections": [],
      "authorship_tag": "ABX9TyPVGIKb1HTB9SzqM5GnihHL",
      "include_colab_link": true
    },
    "kernelspec": {
      "name": "python3",
      "display_name": "Python 3"
    },
    "language_info": {
      "name": "python"
    }
  },
  "cells": [
    {
      "cell_type": "markdown",
      "metadata": {
        "id": "view-in-github",
        "colab_type": "text"
      },
      "source": [
        "<a href=\"https://colab.research.google.com/github/ztjohnson23/MAT494/blob/main/hw_3-2.ipynb\" target=\"_parent\"><img src=\"https://colab.research.google.com/assets/colab-badge.svg\" alt=\"Open In Colab\"/></a>"
      ]
    },
    {
      "cell_type": "code",
      "execution_count": 7,
      "metadata": {
        "id": "NEOchwsA_CwP"
      },
      "outputs": [],
      "source": [
        "import numpy as np\n",
        "import sympy as sym\n",
        "import matplotlib.pyplot as plt"
      ]
    },
    {
      "cell_type": "markdown",
      "source": [
        "3.2.2 Derivatives"
      ],
      "metadata": {
        "id": "JEbbDs3JPWWn"
      }
    },
    {
      "cell_type": "code",
      "source": [
        "h1 = np.linspace(-8,-0.0001,num=40)\n",
        "h2 = np.linspace(8,0.0001,num=40)\n",
        "x = sym.symbols('x')\n",
        "\n",
        "# Define function and x0\n",
        "f = 3*x**3\n",
        "x0 = 2\n",
        "\n",
        "# Solve using definition of derivative\n",
        "df1 = []\n",
        "for h in h1:\n",
        "  df1.append((f.subs(x,x0+h)-f.subs(x,x0))/h)\n",
        "df2 = []\n",
        "for h in h2:\n",
        "  df2.append((f.subs(x,x0+h)-f.subs(x,x0))/h)\n",
        "plt.plot(df1)\n",
        "plt.plot(df2)\n",
        "\n",
        "# Check using built-in functions\n",
        "df = sym.diff(f)\n",
        "df0 = df.subs(x,x0)\n",
        "plt.hlines(df0,0,40,linestyles='dashed',color='red')\n",
        "plt.show()\n",
        "\n",
        "plt.plot(h1,df1)\n",
        "plt.plot(h2,df2)\n",
        "plt.hlines(df0,-8,8,linestyles='dashed',color='red')\n",
        "plt.show()\n",
        "\n",
        "print(f'Derivative of f(x)={f} at x={x0} is {df0}!')"
      ],
      "metadata": {
        "colab": {
          "base_uri": "https://localhost:8080/",
          "height": 530
        },
        "id": "qGJ3tQrrPVAJ",
        "outputId": "bb3f8bb9-6b09-426b-f8a5-a10fc4e8c5ad"
      },
      "execution_count": 38,
      "outputs": [
        {
          "output_type": "display_data",
          "data": {
            "text/plain": [
              "<Figure size 432x288 with 1 Axes>"
            ],
            "image/png": "[encoded data removed]"
          },
          "metadata": {
            "needs_background": "light"
          }
        },
        {
          "output_type": "display_data",
          "data": {
            "text/plain": [
              "<Figure size 432x288 with 1 Axes>"
            ],
            "image/png": "[encoded data removed]"
          },
          "metadata": {
            "needs_background": "light"
          }
        },
        {
          "output_type": "stream",
          "name": "stdout",
          "text": [
            "Derivative of f(x)=3*x**3 at x=2 is 36!\n"
          ]
        }
      ]
    },
    {
      "cell_type": "markdown",
      "source": [
        "By tracking $\\lim\\limits_{h \\to 0}\\frac{f(x_0+h)-f(x_0)}{h}$ as h approaches 0, we can see that $f'(x)$ approaches 36 as h nears 0 from both above and below. Confirming with Sympy's built-in derivative functions, we can see that f'(2) is in fact 36. "
      ],
      "metadata": {
        "id": "O9th5BPDUerL"
      }
    },
    {
      "cell_type": "markdown",
      "source": [
        "3.2.3 Taylor's Theorem"
      ],
      "metadata": {
        "id": "oZzqN_JIBvaS"
      }
    },
    {
      "cell_type": "code",
      "source": [
        "# Function for Taylor Approximation\n",
        "def taylor(f,a,b,m):\n",
        "  solution = f.subs(x,b)\n",
        "  taylor_approximation = 0\n",
        "  for m in range(0,m):\n",
        "    if m != 0:\n",
        "      f = sym.diff(f)\n",
        "    taylor_approximation += f.subs(x,a) * (b-a)**m / np.math.factorial(m)\n",
        "  R = solution - taylor_approximation\n",
        "  return float(taylor_approximation), float(R)"
      ],
      "metadata": {
        "id": "Wf_i2mRoHc0J"
      },
      "execution_count": null,
      "outputs": []
    },
    {
      "cell_type": "code",
      "source": [
        "x = sym.symbols('x')\n",
        "\n",
        "f = x**5/16\n",
        "a = 11\n",
        "b = 14\n",
        "m = 6\n",
        "\n",
        "solution = float(f.subs(x,b))\n",
        "taylor_approximation, r = taylor(f,a,b,m)\n",
        "\n",
        "print(f'Actual solution is:                  {solution}\\nTaylor approximation of solution is: {taylor_approximation}\\n\\nR is {r}')"
      ],
      "metadata": {
        "colab": {
          "base_uri": "https://localhost:8080/"
        },
        "id": "JevIAmNKBxc1",
        "outputId": "b1a6c21f-4ee7-44b2-8b43-a33c017f3ef7"
      },
      "execution_count": null,
      "outputs": [
        {
          "output_type": "stream",
          "name": "stdout",
          "text": [
            "Actual solution is:                  33614.0\n",
            "Taylor approximation of solution is: 33614.0\n",
            "\n",
            "R is 0.0\n"
          ]
        }
      ]
    },
    {
      "cell_type": "code",
      "source": [
        "m = 4\n",
        "\n",
        "solution = float(f.subs(x,b))\n",
        "taylor_approximation, r = taylor(f,a,b,m)\n",
        "print(f'Actual solution is:                  {solution}\\nTaylor approximation of solution is: {taylor_approximation}\\n\\nR is {r}')"
      ],
      "metadata": {
        "colab": {
          "base_uri": "https://localhost:8080/"
        },
        "id": "QLj1eJFTOQNY",
        "outputId": "70c754f7-854a-414b-e86c-27dfd21e505c"
      },
      "execution_count": null,
      "outputs": [
        {
          "output_type": "stream",
          "name": "stdout",
          "text": [
            "Actual solution is:                  33614.0\n",
            "Taylor approximation of solution is: 33320.375\n",
            "\n",
            "R is 293.625\n"
          ]
        }
      ]
    },
    {
      "cell_type": "code",
      "source": [
        "m = 2\n",
        "\n",
        "solution = float(f.subs(x,b))\n",
        "taylor_approximation, r = taylor(f,a,b,m)\n",
        "print(f'Actual solution is:                  {solution}\\nTaylor approximation of solution is: {taylor_approximation}\\n\\nR is {r}')"
      ],
      "metadata": {
        "colab": {
          "base_uri": "https://localhost:8080/"
        },
        "id": "qlW3bASHg7dZ",
        "outputId": "722e3841-d14f-4633-d0b0-e6ab64a273bf"
      },
      "execution_count": null,
      "outputs": [
        {
          "output_type": "stream",
          "name": "stdout",
          "text": [
            "Actual solution is:                  33614.0\n",
            "Taylor approximation of solution is: 23791.625\n",
            "\n",
            "R is 9822.375\n"
          ]
        }
      ]
    },
    {
      "cell_type": "markdown",
      "source": [
        "For a single-variable case using $f(x)=\\frac{1}{16}x^5$, we can see that the solution $f(b)$ is equal to the approximation with order m-1 plus the m-order error term. Additionally, we can see that the Taylor approximation is capable of very high accuracy to the actual solution when m = 6, but becomes less accurate when m is lower. "
      ],
      "metadata": {
        "id": "jd6_dhfXJiZn"
      }
    },
    {
      "cell_type": "code",
      "source": [
        "# New function finds xi and theta\n",
        "def modified_taylor(f,a,b,m):\n",
        "  solution = f.subs(x,b)\n",
        "  taylor_approximation = 0\n",
        "\n",
        "  for m in range(0,m):\n",
        "    if m != 0:\n",
        "      f = sym.diff(f)\n",
        "    taylor_approximation += f.subs(x,a) * (b-a)**m / np.math.factorial(m)\n",
        "\n",
        "  R = solution - taylor_approximation\n",
        "  f_xi = R*np.math.factorial(m+1)/(b-a)**(m+1) - sym.diff(f)\n",
        "  xi = float(sym.solve(f_xi,x)[0])\n",
        "  theta = (xi-a)/(b-a)\n",
        "\n",
        "  return float(taylor_approximation),float(R),float(xi),float(theta)"
      ],
      "metadata": {
        "id": "jZLq7lseQvrG"
      },
      "execution_count": null,
      "outputs": []
    },
    {
      "cell_type": "code",
      "source": [
        "f = x**3\n",
        "a = 1\n",
        "b = 4\n",
        "m = 2\n",
        "\n",
        "t_approx, r, xi, theta = modified_taylor(f,a,b,m)\n",
        "print(f'Taylor approximation of f({b}) is: {t_approx}\\n')\n",
        "\n",
        "print(f'Theta = {round(theta,3)}\\n0 < {round(theta,3)} < 1\\n')\n",
        "print(f'Xi = {round(xi,3)}\\n{a} < {round(xi,3)} < {b}\\n')\n",
        "\n",
        "solution = float(f.subs(x,b))\n",
        "taylor_solution = float(f.subs(x,a) + (b-a)*sym.diff(f,x).subs(x,a) + 1/2 *(b-a)**2 *sym.diff(f,x,x).subs(x,xi))\n",
        "print(f'Actual solution is: {solution}\\nSolution according to Taylor Theorem is: {round(taylor_solution,1)}\\n')\n",
        "\n",
        "r_taylor = float((b-a)**m/np.math.factorial(m)*sym.diff(f,x,x).subs(x,a+theta*(b-a)))\n",
        "print(f'Actual R is: {r}\\nR according to Taylor Theorem is: {round(r_taylor,1)}')"
      ],
      "metadata": {
        "colab": {
          "base_uri": "https://localhost:8080/"
        },
        "id": "zlPWscbeRe_J",
        "outputId": "5874ff39-3997-4249-ff97-e93b1157dad2"
      },
      "execution_count": null,
      "outputs": [
        {
          "output_type": "stream",
          "name": "stdout",
          "text": [
            "Taylor approximation of f(4) is: 10.0\n",
            "\n",
            "Theta = 0.333\n",
            "0 < 0.333 < 1\n",
            "\n",
            "Xi = 2.0\n",
            "1 < 2.0 < 4\n",
            "\n",
            "Actual solution is: 64.0\n",
            "Solution according to Taylor Theorem is: 64.0\n",
            "\n",
            "Actual R is: 54.0\n",
            "R according to Taylor Theorem is: 54.0\n"
          ]
        }
      ]
    },
    {
      "cell_type": "markdown",
      "source": [
        "By finding the values of theta and xi, we can confirm the Taylor theorem when m = 2. We can see that for some $a<ξ<b$, $$f(b)=f(a)+(b-a)f'(a)+\\frac{1}{2}(b-a)^2f''(\\xi)$$\n",
        "and that $$R_m=\\frac{(b-a)^m}{m!}f^{(m)}(a+θ(b-a))$$\n",
        "for some $0<\\theta<1$."
      ],
      "metadata": {
        "id": "IvDqf9k9fl5n"
      }
    }
  ]
}