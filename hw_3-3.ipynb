{
  "nbformat": 4,
  "nbformat_minor": 0,
  "metadata": {
    "colab": {
      "provenance": [],
      "authorship_tag": "ABX9TyP/moOnR02gDuesOqIqV+dw",
      "include_colab_link": true
    },
    "kernelspec": {
      "name": "python3",
      "display_name": "Python 3"
    },
    "language_info": {
      "name": "python"
    }
  },
  "cells": [
    {
      "cell_type": "markdown",
      "metadata": {
        "id": "view-in-github",
        "colab_type": "text"
      },
      "source": [
        "<a href=\"https://colab.research.google.com/github/ztjohnson23/MAT494/blob/main/hw_3-3.ipynb\" target=\"_parent\"><img src=\"https://colab.research.google.com/assets/colab-badge.svg\" alt=\"Open In Colab\"/></a>"
      ]
    },
    {
      "cell_type": "code",
      "execution_count": 1,
      "metadata": {
        "id": "GaDbi6GL2-cK"
      },
      "outputs": [],
      "source": [
        "import matplotlib.pyplot as plt\n",
        "import numpy as np"
      ]
    },
    {
      "cell_type": "markdown",
      "source": [
        "3.3.3 Gradient Descent"
      ],
      "metadata": {
        "id": "JvoUjZhJ3DVm"
      }
    },
    {
      "cell_type": "code",
      "source": [
        "A = np.ones([50,5])\n",
        "b = np.zeros([50,1])\n",
        "\n",
        "x = np.random.randint(-3,4,[1,50])\n",
        "y = np.random.randint(-4,5,[1,50])\n",
        "for i in range(len(x[0])):\n",
        "  [r1,r2,r3] = np.random.rand(3)*2\n",
        "  b[i,0]=(x[0,i]**2)*r1/3 + (y[0,i]**2)*r2/3+r3\n",
        "\n",
        "A[:,1] = x\n",
        "A[:,2] = x**2\n",
        "A[:,3] = y\n",
        "A[:,4] = y**2\n",
        "\n",
        "f = np.linalg.lstsq(A,b,rcond=None)\n",
        "print(f)"
      ],
      "metadata": {
        "id": "aCF41nk03Etl",
        "colab": {
          "base_uri": "https://localhost:8080/"
        },
        "outputId": "51ab525f-1ca0-4820-81b7-da3c32854fe3"
      },
      "execution_count": 16,
      "outputs": [
        {
          "output_type": "stream",
          "name": "stdout",
          "text": [
            "(array([[2.30094128],\n",
            "       [0.18843209],\n",
            "       [0.17287291],\n",
            "       [0.1053962 ],\n",
            "       [0.19684892]]), array([139.5120804]), 5, array([60.21556976, 29.51007671, 17.6513305 , 13.47716716,  3.16812687]))\n"
          ]
        }
      ]
    },
    {
      "cell_type": "code",
      "source": [
        "# f(x,y) = 1/3 x^2 + 1/8 y^2 + 1\n",
        "\n",
        "A = np.ones([50,3])\n",
        "b = np.zeros([50,1])\n",
        "\n",
        "x = np.random.randint(-3,4,[1,50])\n",
        "y = np.random.randint(-4,5,[1,50])\n",
        "for i in range(len(x[0])):\n",
        "  [r1,r2,r3] = np.random.rand(3)*2\n",
        "  b[i,0]=(x[0,i]**2)*r1/3 + (y[0,i]**2)*r2/8+r3\n",
        "\n",
        "A[:,1] = x**2\n",
        "A[:,2] = y**2\n",
        "\n",
        "f = np.linalg.lstsq(A,b,rcond=None)\n",
        "print(f)"
      ],
      "metadata": {
        "colab": {
          "base_uri": "https://localhost:8080/"
        },
        "id": "mYhKvgMUpyTi",
        "outputId": "e61a4b34-a7e1-4c1c-baec-6af7e6a9adf0"
      },
      "execution_count": 18,
      "outputs": [
        {
          "output_type": "stream",
          "name": "stdout",
          "text": [
            "(array([[1.24354398],\n",
            "       [0.29768734],\n",
            "       [0.12006719]]), array([72.22190086]), 3, array([68.08147748, 28.20406711,  3.80039775]))\n"
          ]
        }
      ]
    },
    {
      "cell_type": "code",
      "source": [],
      "metadata": {
        "id": "u7HSfCy4qKw3"
      },
      "execution_count": null,
      "outputs": []
    }
  ]
}