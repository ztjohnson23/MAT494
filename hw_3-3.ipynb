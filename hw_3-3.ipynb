{
  "nbformat": 4,
  "nbformat_minor": 0,
  "metadata": {
    "colab": {
      "provenance": [],
      "collapsed_sections": [],
      "authorship_tag": "ABX9TyO1tJJhg1iwD2FSXPvzaIDd",
      "include_colab_link": true
    },
    "kernelspec": {
      "name": "python3",
      "display_name": "Python 3"
    },
    "language_info": {
      "name": "python"
    }
  },
  "cells": [
    {
      "cell_type": "markdown",
      "metadata": {
        "id": "view-in-github",
        "colab_type": "text"
      },
      "source": [
        "<a href=\"https://colab.research.google.com/github/ztjohnson23/MAT494/blob/main/hw_3-3.ipynb\" target=\"_parent\"><img src=\"https://colab.research.google.com/assets/colab-badge.svg\" alt=\"Open In Colab\"/></a>"
      ]
    },
    {
      "cell_type": "code",
      "execution_count": 12,
      "metadata": {
        "id": "GaDbi6GL2-cK"
      },
      "outputs": [],
      "source": [
        "import matplotlib.pyplot as plt\n",
        "from mpl_toolkits import mplot3d\n",
        "import numpy as np\n",
        "import sympy as sym"
      ]
    },
    {
      "cell_type": "markdown",
      "source": [
        "3.3.1 Steepest Descent"
      ],
      "metadata": {
        "id": "pY5Hi2fI0Yzo"
      }
    },
    {
      "cell_type": "code",
      "source": [
        "x,y = sym.symbols(['x','y'])\n",
        "a = sym.symbols('a')\n",
        "\n",
        "f = 1/3*(x**2) + 1/8*(y**2) + 1\n",
        "\n",
        "x0 = 16; y0 = 10\n",
        "z0 = f.subs({x:x0,y:y0})\n",
        "print(f'(x0,y0) = ({x0},{y0})\\nf(x0,y0) = {z0}')\n",
        "\n",
        "gfx = sym.diff(f,x)\n",
        "gfy = sym.diff(f,y)\n",
        "grad = [gfx,gfy]\n",
        "\n",
        "x_to_min = x0 - a*gfx.subs(x,x0)\n",
        "y_to_min = y0 - a*gfy.subs(y,y0)\n",
        "f_to_min = f.subs({x:x_to_min,y:y_to_min})\n",
        "a0 = sym.solve(sym.diff(f_to_min,a),a)[0]\n",
        "print(f'\\nStep #1:\\nStep size is: {a0}')\n",
        "\n",
        "x1 = x0 - a0*gfx.subs(x,x0); y1 = y0 - a0*gfy.subs(y,y0)\n",
        "z1 = f.subs({x:x1,y:y1})\n",
        "print(f'(x1,y1) = ({x1},{y1})\\nf(x1,y1) = {z1}')\n",
        "\n",
        "x_to_min = x1 - a*gfx.subs(x,x1)\n",
        "y_to_min = y1 - a*gfy.subs(y,y1)\n",
        "f_to_min = f.subs({x:x_to_min,y:y_to_min})\n",
        "a1 = sym.solve(sym.diff(f_to_min,a),a)[0]\n",
        "print(f'\\nStep #2:\\nStep size is: {a1}')\n",
        "\n",
        "x2 = x1 - a1*gfx.subs(x,x1); y2 = y1 - a1*gfy.subs(y,y1)\n",
        "z2 = f.subs({x:x2,y:y2})\n",
        "print(f'(x2,y2) = ({x2},{y2})\\nf(x2,y2) = {z2}')\n",
        "\n",
        "x_to_min = x2 - a*gfx.subs(x,x2)\n",
        "y_to_min = y2 - a*gfy.subs(y,y2)\n",
        "f_to_min = f.subs({x:x_to_min,y:y_to_min})\n",
        "a2 = sym.solve(sym.diff(f_to_min,a),a)[0]\n",
        "print(f'\\nStep #3:\\nStep size is: {a2}')\n",
        "\n",
        "x3 = x2 - a2*gfx.subs(x,x2); y3 = y2 - a2*gfy.subs(y,y2)\n",
        "z3 = f.subs({x:x3,y:y3})\n",
        "print(f'(x3,y3) = ({x3},{y3})\\nf(x3,y3) = {z3}')\n",
        "\n",
        "x_to_min = x3 - a*gfx.subs(x,x3)\n",
        "y_to_min = y3 - a*gfy.subs(y,y3)\n",
        "f_to_min = f.subs({x:x_to_min,y:y_to_min})\n",
        "a3 = sym.solve(sym.diff(f_to_min,a),a)[0]\n",
        "print(f'\\nStep #4:\\nStep size is: {a2}')\n",
        "\n",
        "x4 = x3 - a3*gfx.subs(x,x3); y4 = y3 - a3*gfy.subs(y,y3)\n",
        "z4 = f.subs({x:x4,y:y4})\n",
        "print(f'(x4,y4) = ({x4},{y4})\\nf(x4,y4) = {z4}')"
      ],
      "metadata": {
        "colab": {
          "base_uri": "https://localhost:8080/"
        },
        "id": "sjZu9OJhr3RE",
        "outputId": "2da0ee09-7772-41a8-d5c8-490fd2ad3841"
      },
      "execution_count": 24,
      "outputs": [
        {
          "output_type": "stream",
          "name": "stdout",
          "text": [
            "(x0,y0) = (16,10)\n",
            "f(x0,y0) = 98.8333333333333\n",
            "\n",
            "Step #1:\n",
            "Step size is: 1.55045898992316\n",
            "(x1,y1) = (-0.538229225847004,6.12385252519211)\n",
            "f(x1,y1) = 5.78425978530634\n",
            "\n",
            "Step #2:\n",
            "Step size is: 3.68057921635430\n",
            "(x2,y2) = (0.782434309010963,0.489021443131886)\n",
            "f(x2,y2) = 1.23396056245284\n",
            "\n",
            "Step #3:\n",
            "Step size is: 1.55045898992316\n",
            "(x3,y3) = (-0.0263205632759484,0.299469519939628)\n",
            "f(x3,y3) = 1.01144117318866\n",
            "\n",
            "Step #4:\n",
            "Step size is: 1.55045898992316\n",
            "(x4,y4) = (0.0382627154948467,0.0239141971842836)\n",
            "f(x4,y4) = 1.00055949790238\n"
          ]
        }
      ]
    },
    {
      "cell_type": "code",
      "source": [
        "# Find actual minimum\n",
        "xmin = sym.solve(gfx,x)[0]\n",
        "ymin = sym.solve(gfy,y)[0]\n",
        "fmin = f.subs({x:xmin,y:ymin})\n",
        "print(f'Minimum value of f(x,y) is {fmin}')"
      ],
      "metadata": {
        "colab": {
          "base_uri": "https://localhost:8080/"
        },
        "id": "TdMg_ek13kef",
        "outputId": "1c77bc46-bdc7-4ff3-d00a-3c16d9cbbed4"
      },
      "execution_count": 29,
      "outputs": [
        {
          "output_type": "stream",
          "name": "stdout",
          "text": [
            "Minimum value of f(x,y) is 1\n"
          ]
        }
      ]
    },
    {
      "cell_type": "markdown",
      "source": [
        "We can see that with each iteration in our steepest gradient descent, f decreases as it approaches 1. The minimum value of f is in fact 1, so the steepest descent can be used to estimate the minimum value of our function."
      ],
      "metadata": {
        "id": "iwTQzbGr22h1"
      }
    }
  ]
}