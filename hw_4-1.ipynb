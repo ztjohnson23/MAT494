{
  "nbformat": 4,
  "nbformat_minor": 0,
  "metadata": {
    "colab": {
      "provenance": [],
      "collapsed_sections": [],
      "authorship_tag": "ABX9TyOWITEt683voAhi07kmxmGX",
      "include_colab_link": true
    },
    "kernelspec": {
      "name": "python3",
      "display_name": "Python 3"
    },
    "language_info": {
      "name": "python"
    }
  },
  "cells": [
    {
      "cell_type": "markdown",
      "metadata": {
        "id": "view-in-github",
        "colab_type": "text"
      },
      "source": [
        "<a href=\"https://colab.research.google.com/github/ztjohnson23/MAT494/blob/main/hw_4-1.ipynb\" target=\"_parent\"><img src=\"https://colab.research.google.com/assets/colab-badge.svg\" alt=\"Open In Colab\"/></a>"
      ]
    },
    {
      "cell_type": "code",
      "execution_count": 1,
      "metadata": {
        "id": "UXHD8iQcjtNe"
      },
      "outputs": [],
      "source": [
        "import numpy as np\n",
        "import sympy as sym"
      ]
    },
    {
      "cell_type": "markdown",
      "source": [
        "4.1 Network Analysis\n",
        "\n",
        "![netchart.png](data:image/png;base64,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)\n",
        "\n",
        "I will use the above diagram as an example of a simple neural net. The graph has 5 nodes, and will be used to create a 5x5 adjacency matrix."
      ],
      "metadata": {
        "id": "wKCXr3v6lgse"
      }
    },
    {
      "cell_type": "code",
      "source": [
        "e1,e2,e3,e4,e5,e6 = sym.symbols(['e1', 'e2', 'e3', 'e4', 'e5', 'e6'])\n",
        "\n",
        "A = [[0,0,e1,e2,0],\n",
        "     [0,0,e4,e3,0],\n",
        "     [e1,e4,0,0,e5],\n",
        "     [e2,e3,0,0,e6],\n",
        "     [0,0,e5,e6,0]]"
      ],
      "metadata": {
        "id": "d9Uf2ysbyaxy"
      },
      "execution_count": 79,
      "outputs": []
    },
    {
      "cell_type": "code",
      "source": [
        "# Laplacian Matrix\n",
        "n = len(A)\n",
        "L = [[0,0,0,0,0],[0,0,0,0,0],[0,0,0,0,0],[0,0,0,0,0],[0,0,0,0,0]]\n",
        "\n",
        "for i in range(n):\n",
        "  for j in range(n):\n",
        "    if (i==j):\n",
        "      L[i][j] = sum(A[i])\n",
        "    else:\n",
        "      L[i][j] = 0-A[i][j]\n",
        "\n",
        "print('L:\\n',np.array(L))\n",
        "\n",
        "# Incidence Matrix\n",
        "m = 6\n",
        "Ig = [[e1**(1/2),e2**(1/2),0,0,0,0],\n",
        "      [0,0,e3**(1/2),e4**(1/2),0,0],\n",
        "      [-e1**(1/2),0,0,-e4**(1/2),e5**(1/2),0],\n",
        "      [0,-e2**(1/2),-e3**(1/2),0,0,e6**(1/2)],\n",
        "      [0,0,0,0,-e5**(1/2),-e6**(1/2)]] \n",
        "print('\\nIg:\\n',np.array(Ig))  "
      ],
      "metadata": {
        "colab": {
          "base_uri": "https://localhost:8080/"
        },
        "id": "Plp9PRgn2LvX",
        "outputId": "40ea465a-2a46-454d-963c-768f643b95cd"
      },
      "execution_count": 74,
      "outputs": [
        {
          "output_type": "stream",
          "name": "stdout",
          "text": [
            "L:\n",
            " [[e1 + e2 0 -e1 -e2 0]\n",
            " [0 e3 + e4 -e4 -e3 0]\n",
            " [-e1 -e4 e1 + e4 + e5 0 -e5]\n",
            " [-e2 -e3 0 e2 + e3 + e6 -e6]\n",
            " [0 0 -e5 -e6 e5 + e6]]\n",
            "\n",
            "Ig:\n",
            " [[e1**0.5 e2**0.5 0 0 0 0]\n",
            " [0 0 e3**0.5 e4**0.5 0 0]\n",
            " [-e1**0.5 0 0 -e4**0.5 e5**0.5 0]\n",
            " [0 -e2**0.5 -e3**0.5 0 0 e6**0.5]\n",
            " [0 0 0 0 -e5**0.5 -e6**0.5]]\n"
          ]
        }
      ]
    },
    {
      "cell_type": "code",
      "source": [
        "print(Ig @ np.matrix.transpose(np.array(Ig)))"
      ],
      "metadata": {
        "colab": {
          "base_uri": "https://localhost:8080/"
        },
        "id": "Ex6nSH_R_DKk",
        "outputId": "d490058e-6678-4b49-bd5a-b47561cc796a"
      },
      "execution_count": 75,
      "outputs": [
        {
          "output_type": "stream",
          "name": "stdout",
          "text": [
            "[[e1**1.0 + e2**1.0 0 -e1**1.0 -e2**1.0 0]\n",
            " [0 e3**1.0 + e4**1.0 -e4**1.0 -e3**1.0 0]\n",
            " [-e1**1.0 -e4**1.0 e1**1.0 + e4**1.0 + e5**1.0 0 -e5**1.0]\n",
            " [-e2**1.0 -e3**1.0 0 e2**1.0 + e3**1.0 + e6**1.0 -e6**1.0]\n",
            " [0 0 -e5**1.0 -e6**1.0 e5**1.0 + e6**1.0]]\n"
          ]
        }
      ]
    },
    {
      "cell_type": "markdown",
      "source": [
        "Here, we can confirm that L equals the product of Ig and its transpose."
      ],
      "metadata": {
        "id": "aS7O2P71_7GC"
      }
    },
    {
      "cell_type": "code",
      "source": [
        "e = np.ones([5,1])\n",
        "print(L @ e)\n",
        "\n",
        "#\n",
        "x1,x2,x3,x4,x5 = sym.symbols(['x1', 'x2', 'x3', 'x4', 'x5'])\n",
        "x = np.array([[x1],[x2],[x3],[x4],[x5]])\n",
        "\n",
        "print('\\n',np.matrix.transpose(np.array(Ig)) @ x)"
      ],
      "metadata": {
        "colab": {
          "base_uri": "https://localhost:8080/"
        },
        "id": "4kRalaZuAO5h",
        "outputId": "eabe65ac-198c-414a-c1fb-42f949708bb3"
      },
      "execution_count": 80,
      "outputs": [
        {
          "output_type": "stream",
          "name": "stdout",
          "text": [
            "[[0]\n",
            " [0]\n",
            " [0]\n",
            " [0]\n",
            " [0]]\n",
            "\n",
            " [[e1**0.5*x1 - e1**0.5*x3]\n",
            " [e2**0.5*x1 - e2**0.5*x4]\n",
            " [e3**0.5*x2 - e3**0.5*x4]\n",
            " [e4**0.5*x2 - e4**0.5*x3]\n",
            " [e5**0.5*x3 - e5**0.5*x5]\n",
            " [e6**0.5*x4 - e6**0.5*x5]]\n"
          ]
        }
      ]
    },
    {
      "cell_type": "markdown",
      "source": [
        "We can also see that Le = 0 if e = [1,1,1,1,1]. Additionally, ${I_g}^Tx=\\begin{pmatrix}\\sqrt{e_1}(x_1-x_3)\\\\\\sqrt{e_2}(x_1-x_4)\\\\\\sqrt{e_3}(x_2-x_4)\\\\\\sqrt{e_4}(x_2-x_3)\\\\\\sqrt{e_5}(x_3-x_5)\\\\\\sqrt{e_6}(x_4-x_5)\\end{pmatrix}$. "
      ],
      "metadata": {
        "id": "TtfJwJViD7wt"
      }
    },
    {
      "cell_type": "code",
      "source": [
        "xTLx = (np.matrix.transpose(x) @ L @ x)[0][0]\n",
        "print(xTLx)"
      ],
      "metadata": {
        "colab": {
          "base_uri": "https://localhost:8080/"
        },
        "id": "WAY2IyMnV-Xm",
        "outputId": "2773b242-2dae-40b5-c0ac-3c98e770612d"
      },
      "execution_count": 77,
      "outputs": [
        {
          "output_type": "stream",
          "name": "stdout",
          "text": [
            "x1*(-e1*x3 - e2*x4 + x1*(e1 + e2)) + x2*(-e3*x4 - e4*x3 + x2*(e3 + e4)) + x3*(-e1*x1 - e4*x2 - e5*x5 + x3*(e1 + e4 + e5)) + x4*(-e2*x1 - e3*x2 - e6*x5 + x4*(e2 + e3 + e6)) + x5*(-e5*x3 - e6*x4 + x5*(e5 + e6))\n"
          ]
        }
      ]
    },
    {
      "cell_type": "code",
      "source": [
        "# x1=1; x2=3; x3=3; x4=2; x5=1\n",
        "# e1=1; e2=2; e3=1; e4=1; e5=3; e6=2\n",
        "\n",
        "xTLx = xTLx.subs({x1:1, x2:3, x3:3, x4:2, x5:1,e1:1, e2:2, e3:1, e4:1, e5:3, e6:2})\n",
        "print(xTLx)\n",
        "calculated = 1*(1-3)**2 + 2*(1-2)**2 + 1*(3-2)**2 + 1*(3-3)**2 + 3*(3-1)**2 + 2*(2-1)**2\n",
        "print(calculated)"
      ],
      "metadata": {
        "colab": {
          "base_uri": "https://localhost:8080/"
        },
        "id": "1xEKFWdbaHIr",
        "outputId": "cf79daef-1e5b-400d-f64d-f99a7c49ef22"
      },
      "execution_count": 85,
      "outputs": [
        {
          "output_type": "stream",
          "name": "stdout",
          "text": [
            "21\n",
            "21\n"
          ]
        }
      ]
    },
    {
      "cell_type": "markdown",
      "source": [
        "Using random values for x and e, we can see that $x^TLx$ is equal to $\\sum_{\\{i,j\\}}E_{ij}(x_i-x_j)^2$. "
      ],
      "metadata": {
        "id": "2OX0FWz_c9RN"
      }
    }
  ]
}